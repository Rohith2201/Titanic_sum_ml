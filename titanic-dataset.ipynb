{
 "cells": [
  {
   "cell_type": "code",
   "execution_count": 1,
   "id": "776fd606",
   "metadata": {
    "_cell_guid": "b1076dfc-b9ad-4769-8c92-a6c4dae69d19",
    "_uuid": "8f2839f25d086af736a60e9eeb907d3b93b6e0e5",
    "execution": {
     "iopub.execute_input": "2023-09-08T10:25:18.767973Z",
     "iopub.status.busy": "2023-09-08T10:25:18.767571Z",
     "iopub.status.idle": "2023-09-08T10:25:19.222274Z",
     "shell.execute_reply": "2023-09-08T10:25:19.220468Z"
    },
    "papermill": {
     "duration": 0.480612,
     "end_time": "2023-09-08T10:25:19.225080",
     "exception": false,
     "start_time": "2023-09-08T10:25:18.744468",
     "status": "completed"
    },
    "tags": []
   },
   "outputs": [
    {
     "name": "stdout",
     "output_type": "stream",
     "text": [
      "/kaggle/input/titanic/train.csv\n",
      "/kaggle/input/titanic/test.csv\n",
      "/kaggle/input/titanic/gender_submission.csv\n"
     ]
    }
   ],
   "source": [
    "# This Python 3 environment comes with many helpful analytics libraries installed\n",
    "# It is defined by the kaggle/python Docker image: https://github.com/kaggle/docker-python\n",
    "# For example, here's several helpful packages to load\n",
    "\n",
    "import numpy as np # linear algebra\n",
    "import pandas as pd # data processing, CSV file I/O (e.g. pd.read_csv)\n",
    "\n",
    "# Input data files are available in the read-only \"../input/\" directory\n",
    "# For example, running this (by clicking run or pressing Shift+Enter) will list all files under the input directory\n",
    "\n",
    "import os\n",
    "for dirname, _, filenames in os.walk('/kaggle/input'):\n",
    "    for filename in filenames:\n",
    "        print(os.path.join(dirname, filename))\n",
    "\n",
    "# You can write up to 20GB to the current directory (/kaggle/working/) that gets preserved as output when you create a version using \"Save & Run All\" \n",
    "# You can also write temporary files to /kaggle/temp/, but they won't be saved outside of the current session"
   ]
  },
  {
   "cell_type": "code",
   "execution_count": 2,
   "id": "ff104828",
   "metadata": {
    "execution": {
     "iopub.execute_input": "2023-09-08T10:25:19.268048Z",
     "iopub.status.busy": "2023-09-08T10:25:19.267466Z",
     "iopub.status.idle": "2023-09-08T10:25:21.057391Z",
     "shell.execute_reply": "2023-09-08T10:25:21.055623Z"
    },
    "papermill": {
     "duration": 1.814834,
     "end_time": "2023-09-08T10:25:21.060738",
     "exception": false,
     "start_time": "2023-09-08T10:25:19.245904",
     "status": "completed"
    },
    "tags": []
   },
   "outputs": [],
   "source": [
    "import matplotlib.pyplot as plt\n",
    "import seaborn as sns\n"
   ]
  },
  {
   "cell_type": "code",
   "execution_count": 3,
   "id": "9ed8f9fd",
   "metadata": {
    "execution": {
     "iopub.execute_input": "2023-09-08T10:25:21.116322Z",
     "iopub.status.busy": "2023-09-08T10:25:21.115850Z",
     "iopub.status.idle": "2023-09-08T10:25:21.151273Z",
     "shell.execute_reply": "2023-09-08T10:25:21.150094Z"
    },
    "papermill": {
     "duration": 0.070561,
     "end_time": "2023-09-08T10:25:21.154997",
     "exception": false,
     "start_time": "2023-09-08T10:25:21.084436",
     "status": "completed"
    },
    "tags": []
   },
   "outputs": [],
   "source": [
    "train=pd.read_csv('/kaggle/input/titanic/train.csv')\n",
    "test=pd.read_csv('/kaggle/input/titanic/test.csv')"
   ]
  },
  {
   "cell_type": "code",
   "execution_count": 4,
   "id": "850441e7",
   "metadata": {
    "execution": {
     "iopub.execute_input": "2023-09-08T10:25:21.200651Z",
     "iopub.status.busy": "2023-09-08T10:25:21.200200Z",
     "iopub.status.idle": "2023-09-08T10:25:21.209515Z",
     "shell.execute_reply": "2023-09-08T10:25:21.208284Z"
    },
    "papermill": {
     "duration": 0.034957,
     "end_time": "2023-09-08T10:25:21.212603",
     "exception": false,
     "start_time": "2023-09-08T10:25:21.177646",
     "status": "completed"
    },
    "tags": []
   },
   "outputs": [
    {
     "data": {
      "text/plain": [
       "(891, 12)"
      ]
     },
     "execution_count": 4,
     "metadata": {},
     "output_type": "execute_result"
    }
   ],
   "source": [
    "train.shape\n"
   ]
  },
  {
   "cell_type": "code",
   "execution_count": 5,
   "id": "ba7583c3",
   "metadata": {
    "execution": {
     "iopub.execute_input": "2023-09-08T10:25:21.258464Z",
     "iopub.status.busy": "2023-09-08T10:25:21.257044Z",
     "iopub.status.idle": "2023-09-08T10:25:21.288124Z",
     "shell.execute_reply": "2023-09-08T10:25:21.287216Z"
    },
    "papermill": {
     "duration": 0.056537,
     "end_time": "2023-09-08T10:25:21.291266",
     "exception": false,
     "start_time": "2023-09-08T10:25:21.234729",
     "status": "completed"
    },
    "tags": []
   },
   "outputs": [
    {
     "data": {
      "text/html": [
       "<div>\n",
       "<style scoped>\n",
       "    .dataframe tbody tr th:only-of-type {\n",
       "        vertical-align: middle;\n",
       "    }\n",
       "\n",
       "    .dataframe tbody tr th {\n",
       "        vertical-align: top;\n",
       "    }\n",
       "\n",
       "    .dataframe thead th {\n",
       "        text-align: right;\n",
       "    }\n",
       "</style>\n",
       "<table border=\"1\" class=\"dataframe\">\n",
       "  <thead>\n",
       "    <tr style=\"text-align: right;\">\n",
       "      <th></th>\n",
       "      <th>PassengerId</th>\n",
       "      <th>Survived</th>\n",
       "      <th>Pclass</th>\n",
       "      <th>Name</th>\n",
       "      <th>Sex</th>\n",
       "      <th>Age</th>\n",
       "      <th>SibSp</th>\n",
       "      <th>Parch</th>\n",
       "      <th>Ticket</th>\n",
       "      <th>Fare</th>\n",
       "      <th>Cabin</th>\n",
       "      <th>Embarked</th>\n",
       "    </tr>\n",
       "  </thead>\n",
       "  <tbody>\n",
       "    <tr>\n",
       "      <th>0</th>\n",
       "      <td>1</td>\n",
       "      <td>0</td>\n",
       "      <td>3</td>\n",
       "      <td>Braund, Mr. Owen Harris</td>\n",
       "      <td>male</td>\n",
       "      <td>22.0</td>\n",
       "      <td>1</td>\n",
       "      <td>0</td>\n",
       "      <td>A/5 21171</td>\n",
       "      <td>7.2500</td>\n",
       "      <td>NaN</td>\n",
       "      <td>S</td>\n",
       "    </tr>\n",
       "    <tr>\n",
       "      <th>1</th>\n",
       "      <td>2</td>\n",
       "      <td>1</td>\n",
       "      <td>1</td>\n",
       "      <td>Cumings, Mrs. John Bradley (Florence Briggs Th...</td>\n",
       "      <td>female</td>\n",
       "      <td>38.0</td>\n",
       "      <td>1</td>\n",
       "      <td>0</td>\n",
       "      <td>PC 17599</td>\n",
       "      <td>71.2833</td>\n",
       "      <td>C85</td>\n",
       "      <td>C</td>\n",
       "    </tr>\n",
       "  </tbody>\n",
       "</table>\n",
       "</div>"
      ],
      "text/plain": [
       "   PassengerId  Survived  Pclass  \\\n",
       "0            1         0       3   \n",
       "1            2         1       1   \n",
       "\n",
       "                                                Name     Sex   Age  SibSp  \\\n",
       "0                            Braund, Mr. Owen Harris    male  22.0      1   \n",
       "1  Cumings, Mrs. John Bradley (Florence Briggs Th...  female  38.0      1   \n",
       "\n",
       "   Parch     Ticket     Fare Cabin Embarked  \n",
       "0      0  A/5 21171   7.2500   NaN        S  \n",
       "1      0   PC 17599  71.2833   C85        C  "
      ]
     },
     "execution_count": 5,
     "metadata": {},
     "output_type": "execute_result"
    }
   ],
   "source": [
    "train.head(2)\n"
   ]
  },
  {
   "cell_type": "code",
   "execution_count": 6,
   "id": "c3b9fb28",
   "metadata": {
    "execution": {
     "iopub.execute_input": "2023-09-08T10:25:21.334987Z",
     "iopub.status.busy": "2023-09-08T10:25:21.334200Z",
     "iopub.status.idle": "2023-09-08T10:25:21.367763Z",
     "shell.execute_reply": "2023-09-08T10:25:21.366460Z"
    },
    "papermill": {
     "duration": 0.058816,
     "end_time": "2023-09-08T10:25:21.370774",
     "exception": false,
     "start_time": "2023-09-08T10:25:21.311958",
     "status": "completed"
    },
    "tags": []
   },
   "outputs": [
    {
     "name": "stdout",
     "output_type": "stream",
     "text": [
      "<class 'pandas.core.frame.DataFrame'>\n",
      "RangeIndex: 891 entries, 0 to 890\n",
      "Data columns (total 12 columns):\n",
      " #   Column       Non-Null Count  Dtype  \n",
      "---  ------       --------------  -----  \n",
      " 0   PassengerId  891 non-null    int64  \n",
      " 1   Survived     891 non-null    int64  \n",
      " 2   Pclass       891 non-null    int64  \n",
      " 3   Name         891 non-null    object \n",
      " 4   Sex          891 non-null    object \n",
      " 5   Age          714 non-null    float64\n",
      " 6   SibSp        891 non-null    int64  \n",
      " 7   Parch        891 non-null    int64  \n",
      " 8   Ticket       891 non-null    object \n",
      " 9   Fare         891 non-null    float64\n",
      " 10  Cabin        204 non-null    object \n",
      " 11  Embarked     889 non-null    object \n",
      "dtypes: float64(2), int64(5), object(5)\n",
      "memory usage: 83.7+ KB\n"
     ]
    }
   ],
   "source": [
    "train.info()\n"
   ]
  },
  {
   "cell_type": "code",
   "execution_count": 7,
   "id": "af53f522",
   "metadata": {
    "execution": {
     "iopub.execute_input": "2023-09-08T10:25:21.415683Z",
     "iopub.status.busy": "2023-09-08T10:25:21.415026Z",
     "iopub.status.idle": "2023-09-08T10:25:21.428514Z",
     "shell.execute_reply": "2023-09-08T10:25:21.427336Z"
    },
    "papermill": {
     "duration": 0.039241,
     "end_time": "2023-09-08T10:25:21.431380",
     "exception": false,
     "start_time": "2023-09-08T10:25:21.392139",
     "status": "completed"
    },
    "tags": []
   },
   "outputs": [
    {
     "name": "stdout",
     "output_type": "stream",
     "text": [
      "<class 'pandas.core.frame.DataFrame'>\n",
      "RangeIndex: 418 entries, 0 to 417\n",
      "Data columns (total 11 columns):\n",
      " #   Column       Non-Null Count  Dtype  \n",
      "---  ------       --------------  -----  \n",
      " 0   PassengerId  418 non-null    int64  \n",
      " 1   Pclass       418 non-null    int64  \n",
      " 2   Name         418 non-null    object \n",
      " 3   Sex          418 non-null    object \n",
      " 4   Age          332 non-null    float64\n",
      " 5   SibSp        418 non-null    int64  \n",
      " 6   Parch        418 non-null    int64  \n",
      " 7   Ticket       418 non-null    object \n",
      " 8   Fare         417 non-null    float64\n",
      " 9   Cabin        91 non-null     object \n",
      " 10  Embarked     418 non-null    object \n",
      "dtypes: float64(2), int64(4), object(5)\n",
      "memory usage: 36.0+ KB\n"
     ]
    }
   ],
   "source": [
    "test.info()\n"
   ]
  },
  {
   "cell_type": "code",
   "execution_count": 8,
   "id": "fde87e9f",
   "metadata": {
    "execution": {
     "iopub.execute_input": "2023-09-08T10:25:21.476497Z",
     "iopub.status.busy": "2023-09-08T10:25:21.476083Z",
     "iopub.status.idle": "2023-09-08T10:25:21.487178Z",
     "shell.execute_reply": "2023-09-08T10:25:21.485701Z"
    },
    "papermill": {
     "duration": 0.037807,
     "end_time": "2023-09-08T10:25:21.490086",
     "exception": false,
     "start_time": "2023-09-08T10:25:21.452279",
     "status": "completed"
    },
    "tags": []
   },
   "outputs": [],
   "source": [
    "train.drop(columns=['Cabin'],inplace=True)\n",
    "test.drop(columns=['Cabin'],inplace=True)"
   ]
  },
  {
   "cell_type": "code",
   "execution_count": 9,
   "id": "f4702da1",
   "metadata": {
    "execution": {
     "iopub.execute_input": "2023-09-08T10:25:21.534815Z",
     "iopub.status.busy": "2023-09-08T10:25:21.533831Z",
     "iopub.status.idle": "2023-09-08T10:25:21.543405Z",
     "shell.execute_reply": "2023-09-08T10:25:21.542239Z"
    },
    "papermill": {
     "duration": 0.034792,
     "end_time": "2023-09-08T10:25:21.545985",
     "exception": false,
     "start_time": "2023-09-08T10:25:21.511193",
     "status": "completed"
    },
    "tags": []
   },
   "outputs": [
    {
     "data": {
      "text/plain": [
       "PassengerId      0\n",
       "Survived         0\n",
       "Pclass           0\n",
       "Name             0\n",
       "Sex              0\n",
       "Age            177\n",
       "SibSp            0\n",
       "Parch            0\n",
       "Ticket           0\n",
       "Fare             0\n",
       "Embarked         2\n",
       "dtype: int64"
      ]
     },
     "execution_count": 9,
     "metadata": {},
     "output_type": "execute_result"
    }
   ],
   "source": [
    "train.isnull().sum()\n"
   ]
  },
  {
   "cell_type": "code",
   "execution_count": 10,
   "id": "a916bea7",
   "metadata": {
    "execution": {
     "iopub.execute_input": "2023-09-08T10:25:21.594842Z",
     "iopub.status.busy": "2023-09-08T10:25:21.593966Z",
     "iopub.status.idle": "2023-09-08T10:25:21.603599Z",
     "shell.execute_reply": "2023-09-08T10:25:21.602591Z"
    },
    "papermill": {
     "duration": 0.037721,
     "end_time": "2023-09-08T10:25:21.606006",
     "exception": false,
     "start_time": "2023-09-08T10:25:21.568285",
     "status": "completed"
    },
    "tags": []
   },
   "outputs": [
    {
     "data": {
      "text/plain": [
       "PassengerId     0\n",
       "Pclass          0\n",
       "Name            0\n",
       "Sex             0\n",
       "Age            86\n",
       "SibSp           0\n",
       "Parch           0\n",
       "Ticket          0\n",
       "Fare            1\n",
       "Embarked        0\n",
       "dtype: int64"
      ]
     },
     "execution_count": 10,
     "metadata": {},
     "output_type": "execute_result"
    }
   ],
   "source": [
    "test.isnull().sum()\n"
   ]
  },
  {
   "cell_type": "code",
   "execution_count": 11,
   "id": "6913c911",
   "metadata": {
    "execution": {
     "iopub.execute_input": "2023-09-08T10:25:21.655546Z",
     "iopub.status.busy": "2023-09-08T10:25:21.654888Z",
     "iopub.status.idle": "2023-09-08T10:25:21.663172Z",
     "shell.execute_reply": "2023-09-08T10:25:21.661939Z"
    },
    "papermill": {
     "duration": 0.03571,
     "end_time": "2023-09-08T10:25:21.665866",
     "exception": false,
     "start_time": "2023-09-08T10:25:21.630156",
     "status": "completed"
    },
    "tags": []
   },
   "outputs": [
    {
     "data": {
      "text/plain": [
       "Embarked\n",
       "S    644\n",
       "C    168\n",
       "Q     77\n",
       "Name: count, dtype: int64"
      ]
     },
     "execution_count": 11,
     "metadata": {},
     "output_type": "execute_result"
    }
   ],
   "source": [
    "train['Embarked'].value_counts()\n"
   ]
  },
  {
   "cell_type": "code",
   "execution_count": 12,
   "id": "3ce50c2d",
   "metadata": {
    "execution": {
     "iopub.execute_input": "2023-09-08T10:25:21.783336Z",
     "iopub.status.busy": "2023-09-08T10:25:21.782084Z",
     "iopub.status.idle": "2023-09-08T10:25:21.788615Z",
     "shell.execute_reply": "2023-09-08T10:25:21.787737Z"
    },
    "papermill": {
     "duration": 0.031959,
     "end_time": "2023-09-08T10:25:21.791236",
     "exception": false,
     "start_time": "2023-09-08T10:25:21.759277",
     "status": "completed"
    },
    "tags": []
   },
   "outputs": [],
   "source": [
    "train['Embarked'].fillna('S',inplace=True)\n"
   ]
  },
  {
   "cell_type": "code",
   "execution_count": 13,
   "id": "88fb80f5",
   "metadata": {
    "execution": {
     "iopub.execute_input": "2023-09-08T10:25:21.837982Z",
     "iopub.status.busy": "2023-09-08T10:25:21.836651Z",
     "iopub.status.idle": "2023-09-08T10:25:21.847530Z",
     "shell.execute_reply": "2023-09-08T10:25:21.846104Z"
    },
    "papermill": {
     "duration": 0.03775,
     "end_time": "2023-09-08T10:25:21.850578",
     "exception": false,
     "start_time": "2023-09-08T10:25:21.812828",
     "status": "completed"
    },
    "tags": []
   },
   "outputs": [
    {
     "data": {
      "text/plain": [
       "PassengerId      0\n",
       "Survived         0\n",
       "Pclass           0\n",
       "Name             0\n",
       "Sex              0\n",
       "Age            177\n",
       "SibSp            0\n",
       "Parch            0\n",
       "Ticket           0\n",
       "Fare             0\n",
       "Embarked         0\n",
       "dtype: int64"
      ]
     },
     "execution_count": 13,
     "metadata": {},
     "output_type": "execute_result"
    }
   ],
   "source": [
    "train.isnull().sum()\n"
   ]
  },
  {
   "cell_type": "code",
   "execution_count": 14,
   "id": "4ef6dc68",
   "metadata": {
    "execution": {
     "iopub.execute_input": "2023-09-08T10:25:21.898393Z",
     "iopub.status.busy": "2023-09-08T10:25:21.897976Z",
     "iopub.status.idle": "2023-09-08T10:25:21.905864Z",
     "shell.execute_reply": "2023-09-08T10:25:21.904690Z"
    },
    "papermill": {
     "duration": 0.035587,
     "end_time": "2023-09-08T10:25:21.908586",
     "exception": false,
     "start_time": "2023-09-08T10:25:21.872999",
     "status": "completed"
    },
    "tags": []
   },
   "outputs": [],
   "source": [
    "test['Fare'].fillna(test['Fare'].mean(),inplace=True)\n"
   ]
  },
  {
   "cell_type": "code",
   "execution_count": 15,
   "id": "19e78059",
   "metadata": {
    "execution": {
     "iopub.execute_input": "2023-09-08T10:25:21.955789Z",
     "iopub.status.busy": "2023-09-08T10:25:21.955338Z",
     "iopub.status.idle": "2023-09-08T10:25:21.964755Z",
     "shell.execute_reply": "2023-09-08T10:25:21.963599Z"
    },
    "papermill": {
     "duration": 0.03651,
     "end_time": "2023-09-08T10:25:21.967295",
     "exception": false,
     "start_time": "2023-09-08T10:25:21.930785",
     "status": "completed"
    },
    "tags": []
   },
   "outputs": [
    {
     "data": {
      "text/plain": [
       "PassengerId     0\n",
       "Pclass          0\n",
       "Name            0\n",
       "Sex             0\n",
       "Age            86\n",
       "SibSp           0\n",
       "Parch           0\n",
       "Ticket          0\n",
       "Fare            0\n",
       "Embarked        0\n",
       "dtype: int64"
      ]
     },
     "execution_count": 15,
     "metadata": {},
     "output_type": "execute_result"
    }
   ],
   "source": [
    "test.isnull().sum()\n"
   ]
  },
  {
   "cell_type": "code",
   "execution_count": 16,
   "id": "eaa9d577",
   "metadata": {
    "execution": {
     "iopub.execute_input": "2023-09-08T10:25:22.012476Z",
     "iopub.status.busy": "2023-09-08T10:25:22.012088Z",
     "iopub.status.idle": "2023-09-08T10:25:22.021766Z",
     "shell.execute_reply": "2023-09-08T10:25:22.019766Z"
    },
    "papermill": {
     "duration": 0.035827,
     "end_time": "2023-09-08T10:25:22.024812",
     "exception": false,
     "start_time": "2023-09-08T10:25:21.988985",
     "status": "completed"
    },
    "tags": []
   },
   "outputs": [],
   "source": [
    "train_age=np.random.randint(train['Age'].mean()-train['Age'].std(),train['Age'].mean()+train['Age'].std(),177)\n"
   ]
  },
  {
   "cell_type": "code",
   "execution_count": 17,
   "id": "c8c629dc",
   "metadata": {
    "execution": {
     "iopub.execute_input": "2023-09-08T10:25:22.074372Z",
     "iopub.status.busy": "2023-09-08T10:25:22.073650Z",
     "iopub.status.idle": "2023-09-08T10:25:22.082321Z",
     "shell.execute_reply": "2023-09-08T10:25:22.080497Z"
    },
    "papermill": {
     "duration": 0.037726,
     "end_time": "2023-09-08T10:25:22.085417",
     "exception": false,
     "start_time": "2023-09-08T10:25:22.047691",
     "status": "completed"
    },
    "tags": []
   },
   "outputs": [],
   "source": [
    "test_age=np.random.randint(test['Age'].mean()-test['Age'].std(),test['Age'].mean()+test['Age'].std(),86)\n"
   ]
  },
  {
   "cell_type": "code",
   "execution_count": 18,
   "id": "e1bc48c2",
   "metadata": {
    "execution": {
     "iopub.execute_input": "2023-09-08T10:25:22.134002Z",
     "iopub.status.busy": "2023-09-08T10:25:22.133550Z",
     "iopub.status.idle": "2023-09-08T10:25:22.141019Z",
     "shell.execute_reply": "2023-09-08T10:25:22.139741Z"
    },
    "papermill": {
     "duration": 0.035261,
     "end_time": "2023-09-08T10:25:22.144443",
     "exception": false,
     "start_time": "2023-09-08T10:25:22.109182",
     "status": "completed"
    },
    "tags": []
   },
   "outputs": [
    {
     "name": "stderr",
     "output_type": "stream",
     "text": [
      "/tmp/ipykernel_20/216320660.py:1: SettingWithCopyWarning: \n",
      "A value is trying to be set on a copy of a slice from a DataFrame\n",
      "\n",
      "See the caveats in the documentation: https://pandas.pydata.org/pandas-docs/stable/user_guide/indexing.html#returning-a-view-versus-a-copy\n",
      "  train['Age'][train['Age'].isnull()]=train_age\n"
     ]
    }
   ],
   "source": [
    "train['Age'][train['Age'].isnull()]=train_age\n"
   ]
  },
  {
   "cell_type": "code",
   "execution_count": 19,
   "id": "0cbc7a47",
   "metadata": {
    "execution": {
     "iopub.execute_input": "2023-09-08T10:25:22.190801Z",
     "iopub.status.busy": "2023-09-08T10:25:22.190320Z",
     "iopub.status.idle": "2023-09-08T10:25:22.200225Z",
     "shell.execute_reply": "2023-09-08T10:25:22.199041Z"
    },
    "papermill": {
     "duration": 0.036639,
     "end_time": "2023-09-08T10:25:22.202940",
     "exception": false,
     "start_time": "2023-09-08T10:25:22.166301",
     "status": "completed"
    },
    "tags": []
   },
   "outputs": [
    {
     "data": {
      "text/plain": [
       "PassengerId    0\n",
       "Survived       0\n",
       "Pclass         0\n",
       "Name           0\n",
       "Sex            0\n",
       "Age            0\n",
       "SibSp          0\n",
       "Parch          0\n",
       "Ticket         0\n",
       "Fare           0\n",
       "Embarked       0\n",
       "dtype: int64"
      ]
     },
     "execution_count": 19,
     "metadata": {},
     "output_type": "execute_result"
    }
   ],
   "source": [
    "train.isnull().sum()\n"
   ]
  },
  {
   "cell_type": "code",
   "execution_count": 20,
   "id": "3e0fa9f2",
   "metadata": {
    "execution": {
     "iopub.execute_input": "2023-09-08T10:25:22.255562Z",
     "iopub.status.busy": "2023-09-08T10:25:22.254913Z",
     "iopub.status.idle": "2023-09-08T10:25:22.265024Z",
     "shell.execute_reply": "2023-09-08T10:25:22.263579Z"
    },
    "papermill": {
     "duration": 0.041089,
     "end_time": "2023-09-08T10:25:22.268813",
     "exception": false,
     "start_time": "2023-09-08T10:25:22.227724",
     "status": "completed"
    },
    "tags": []
   },
   "outputs": [
    {
     "name": "stderr",
     "output_type": "stream",
     "text": [
      "/tmp/ipykernel_20/1961586285.py:1: SettingWithCopyWarning: \n",
      "A value is trying to be set on a copy of a slice from a DataFrame\n",
      "\n",
      "See the caveats in the documentation: https://pandas.pydata.org/pandas-docs/stable/user_guide/indexing.html#returning-a-view-versus-a-copy\n",
      "  test['Age'][test['Age'].isnull()]=test_age\n"
     ]
    }
   ],
   "source": [
    "test['Age'][test['Age'].isnull()]=test_age\n"
   ]
  },
  {
   "cell_type": "code",
   "execution_count": 21,
   "id": "4b048138",
   "metadata": {
    "execution": {
     "iopub.execute_input": "2023-09-08T10:25:22.316429Z",
     "iopub.status.busy": "2023-09-08T10:25:22.316039Z",
     "iopub.status.idle": "2023-09-08T10:25:22.325887Z",
     "shell.execute_reply": "2023-09-08T10:25:22.324618Z"
    },
    "papermill": {
     "duration": 0.036403,
     "end_time": "2023-09-08T10:25:22.328520",
     "exception": false,
     "start_time": "2023-09-08T10:25:22.292117",
     "status": "completed"
    },
    "tags": []
   },
   "outputs": [
    {
     "data": {
      "text/plain": [
       "PassengerId    0\n",
       "Pclass         0\n",
       "Name           0\n",
       "Sex            0\n",
       "Age            0\n",
       "SibSp          0\n",
       "Parch          0\n",
       "Ticket         0\n",
       "Fare           0\n",
       "Embarked       0\n",
       "dtype: int64"
      ]
     },
     "execution_count": 21,
     "metadata": {},
     "output_type": "execute_result"
    }
   ],
   "source": [
    "test.isnull().sum()\n"
   ]
  },
  {
   "cell_type": "code",
   "execution_count": 22,
   "id": "a6b5c49c",
   "metadata": {
    "execution": {
     "iopub.execute_input": "2023-09-08T10:25:22.377627Z",
     "iopub.status.busy": "2023-09-08T10:25:22.377202Z",
     "iopub.status.idle": "2023-09-08T10:25:22.393760Z",
     "shell.execute_reply": "2023-09-08T10:25:22.392393Z"
    },
    "papermill": {
     "duration": 0.043438,
     "end_time": "2023-09-08T10:25:22.396235",
     "exception": false,
     "start_time": "2023-09-08T10:25:22.352797",
     "status": "completed"
    },
    "tags": []
   },
   "outputs": [
    {
     "data": {
      "text/plain": [
       "Pclass\n",
       "1    0.629630\n",
       "2    0.472826\n",
       "3    0.242363\n",
       "Name: Survived, dtype: float64"
      ]
     },
     "execution_count": 22,
     "metadata": {},
     "output_type": "execute_result"
    }
   ],
   "source": [
    "train.groupby(['Pclass'])['Survived'].mean()\n"
   ]
  },
  {
   "cell_type": "code",
   "execution_count": 23,
   "id": "c4209502",
   "metadata": {
    "execution": {
     "iopub.execute_input": "2023-09-08T10:25:22.447222Z",
     "iopub.status.busy": "2023-09-08T10:25:22.446575Z",
     "iopub.status.idle": "2023-09-08T10:25:22.459285Z",
     "shell.execute_reply": "2023-09-08T10:25:22.457843Z"
    },
    "papermill": {
     "duration": 0.041104,
     "end_time": "2023-09-08T10:25:22.462135",
     "exception": false,
     "start_time": "2023-09-08T10:25:22.421031",
     "status": "completed"
    },
    "tags": []
   },
   "outputs": [
    {
     "data": {
      "text/plain": [
       "Sex\n",
       "female    0.742038\n",
       "male      0.188908\n",
       "Name: Survived, dtype: float64"
      ]
     },
     "execution_count": 23,
     "metadata": {},
     "output_type": "execute_result"
    }
   ],
   "source": [
    "train.groupby(['Sex'])['Survived'].mean()\n"
   ]
  },
  {
   "cell_type": "code",
   "execution_count": 24,
   "id": "ebeebb2e",
   "metadata": {
    "execution": {
     "iopub.execute_input": "2023-09-08T10:25:22.512094Z",
     "iopub.status.busy": "2023-09-08T10:25:22.511715Z",
     "iopub.status.idle": "2023-09-08T10:25:22.521941Z",
     "shell.execute_reply": "2023-09-08T10:25:22.520710Z"
    },
    "papermill": {
     "duration": 0.038257,
     "end_time": "2023-09-08T10:25:22.524616",
     "exception": false,
     "start_time": "2023-09-08T10:25:22.486359",
     "status": "completed"
    },
    "tags": []
   },
   "outputs": [
    {
     "data": {
      "text/plain": [
       "Embarked\n",
       "C    0.553571\n",
       "Q    0.389610\n",
       "S    0.339009\n",
       "Name: Survived, dtype: float64"
      ]
     },
     "execution_count": 24,
     "metadata": {},
     "output_type": "execute_result"
    }
   ],
   "source": [
    "train.groupby(['Embarked'])['Survived'].mean()\n"
   ]
  },
  {
   "cell_type": "code",
   "execution_count": 25,
   "id": "e42f51d4",
   "metadata": {
    "execution": {
     "iopub.execute_input": "2023-09-08T10:25:22.572939Z",
     "iopub.status.busy": "2023-09-08T10:25:22.572509Z",
     "iopub.status.idle": "2023-09-08T10:25:23.172045Z",
     "shell.execute_reply": "2023-09-08T10:25:23.170167Z"
    },
    "papermill": {
     "duration": 0.626615,
     "end_time": "2023-09-08T10:25:23.174696",
     "exception": false,
     "start_time": "2023-09-08T10:25:22.548081",
     "status": "completed"
    },
    "tags": []
   },
   "outputs": [
    {
     "name": "stderr",
     "output_type": "stream",
     "text": [
      "/tmp/ipykernel_20/3826302481.py:1: UserWarning: \n",
      "\n",
      "`distplot` is a deprecated function and will be removed in seaborn v0.14.0.\n",
      "\n",
      "Please adapt your code to use either `displot` (a figure-level function with\n",
      "similar flexibility) or `histplot` (an axes-level function for histograms).\n",
      "\n",
      "For a guide to updating your code to use the new functions, please see\n",
      "https://gist.github.com/mwaskom/de44147ed2974457ad6372750bbe5751\n",
      "\n",
      "  sns.distplot(train['Age'][train['Survived']==0])\n",
      "/tmp/ipykernel_20/3826302481.py:2: UserWarning: \n",
      "\n",
      "`distplot` is a deprecated function and will be removed in seaborn v0.14.0.\n",
      "\n",
      "Please adapt your code to use either `displot` (a figure-level function with\n",
      "similar flexibility) or `histplot` (an axes-level function for histograms).\n",
      "\n",
      "For a guide to updating your code to use the new functions, please see\n",
      "https://gist.github.com/mwaskom/de44147ed2974457ad6372750bbe5751\n",
      "\n",
      "  sns.distplot(train['Age'][train['Survived']==1])\n"
     ]
    },
    {
     "data": {
      "text/plain": [
       "<Axes: xlabel='Age', ylabel='Density'>"
      ]
     },
     "execution_count": 25,
     "metadata": {},
     "output_type": "execute_result"
    },
    {
     "data": {
      "image/png": "[encoded data removed]",
      "text/plain": [
       "<Figure size 640x480 with 1 Axes>"
      ]
     },
     "metadata": {},
     "output_type": "display_data"
    }
   ],
   "source": [
    "sns.distplot(train['Age'][train['Survived']==0])\n",
    "sns.distplot(train['Age'][train['Survived']==1])"
   ]
  },
  {
   "cell_type": "code",
   "execution_count": 26,
   "id": "522609f3",
   "metadata": {
    "execution": {
     "iopub.execute_input": "2023-09-08T10:25:23.227443Z",
     "iopub.status.busy": "2023-09-08T10:25:23.225099Z",
     "iopub.status.idle": "2023-09-08T10:25:23.824340Z",
     "shell.execute_reply": "2023-09-08T10:25:23.822973Z"
    },
    "papermill": {
     "duration": 0.628891,
     "end_time": "2023-09-08T10:25:23.827629",
     "exception": false,
     "start_time": "2023-09-08T10:25:23.198738",
     "status": "completed"
    },
    "tags": []
   },
   "outputs": [
    {
     "name": "stderr",
     "output_type": "stream",
     "text": [
      "/tmp/ipykernel_20/2626582821.py:1: UserWarning: \n",
      "\n",
      "`distplot` is a deprecated function and will be removed in seaborn v0.14.0.\n",
      "\n",
      "Please adapt your code to use either `displot` (a figure-level function with\n",
      "similar flexibility) or `histplot` (an axes-level function for histograms).\n",
      "\n",
      "For a guide to updating your code to use the new functions, please see\n",
      "https://gist.github.com/mwaskom/de44147ed2974457ad6372750bbe5751\n",
      "\n",
      "  sns.distplot(train['Fare'][train['Survived']==0])\n",
      "/tmp/ipykernel_20/2626582821.py:2: UserWarning: \n",
      "\n",
      "`distplot` is a deprecated function and will be removed in seaborn v0.14.0.\n",
      "\n",
      "Please adapt your code to use either `displot` (a figure-level function with\n",
      "similar flexibility) or `histplot` (an axes-level function for histograms).\n",
      "\n",
      "For a guide to updating your code to use the new functions, please see\n",
      "https://gist.github.com/mwaskom/de44147ed2974457ad6372750bbe5751\n",
      "\n",
      "  sns.distplot(train['Fare'][train['Survived']==1])\n"
     ]
    },
    {
     "data": {
      "text/plain": [
       "<Axes: xlabel='Fare', ylabel='Density'>"
      ]
     },
     "execution_count": 26,
     "metadata": {},
     "output_type": "execute_result"
    },
    {
     "data": {
      "image/png": "[encoded data removed]",
      "text/plain": [
       "<Figure size 640x480 with 1 Axes>"
      ]
     },
     "metadata": {},
     "output_type": "display_data"
    }
   ],
   "source": [
    "sns.distplot(train['Fare'][train['Survived']==0])\n",
    "sns.distplot(train['Fare'][train['Survived']==1])"
   ]
  },
  {
   "cell_type": "code",
   "execution_count": 27,
   "id": "4858e80c",
   "metadata": {
    "execution": {
     "iopub.execute_input": "2023-09-08T10:25:23.892535Z",
     "iopub.status.busy": "2023-09-08T10:25:23.891902Z",
     "iopub.status.idle": "2023-09-08T10:25:23.907105Z",
     "shell.execute_reply": "2023-09-08T10:25:23.905052Z"
    },
    "papermill": {
     "duration": 0.055461,
     "end_time": "2023-09-08T10:25:23.910304",
     "exception": false,
     "start_time": "2023-09-08T10:25:23.854843",
     "status": "completed"
    },
    "tags": []
   },
   "outputs": [
    {
     "data": {
      "text/plain": [
       "PassengerId    0\n",
       "Survived       0\n",
       "Pclass         0\n",
       "Name           0\n",
       "Sex            0\n",
       "Age            0\n",
       "SibSp          0\n",
       "Parch          0\n",
       "Ticket         0\n",
       "Fare           0\n",
       "Embarked       0\n",
       "dtype: int64"
      ]
     },
     "execution_count": 27,
     "metadata": {},
     "output_type": "execute_result"
    }
   ],
   "source": [
    "train.isnull().sum()\n"
   ]
  },
  {
   "cell_type": "code",
   "execution_count": 28,
   "id": "8ff9f879",
   "metadata": {
    "execution": {
     "iopub.execute_input": "2023-09-08T10:25:23.979925Z",
     "iopub.status.busy": "2023-09-08T10:25:23.977381Z",
     "iopub.status.idle": "2023-09-08T10:25:23.986912Z",
     "shell.execute_reply": "2023-09-08T10:25:23.985486Z"
    },
    "papermill": {
     "duration": 0.049747,
     "end_time": "2023-09-08T10:25:23.989870",
     "exception": false,
     "start_time": "2023-09-08T10:25:23.940123",
     "status": "completed"
    },
    "tags": []
   },
   "outputs": [],
   "source": [
    "train.drop(columns=['Ticket'],inplace=True)\n",
    "test.drop(columns=['Ticket'],inplace=True)"
   ]
  },
  {
   "cell_type": "code",
   "execution_count": 29,
   "id": "5b248ae6",
   "metadata": {
    "execution": {
     "iopub.execute_input": "2023-09-08T10:25:24.041719Z",
     "iopub.status.busy": "2023-09-08T10:25:24.040722Z",
     "iopub.status.idle": "2023-09-08T10:25:24.047901Z",
     "shell.execute_reply": "2023-09-08T10:25:24.046756Z"
    },
    "papermill": {
     "duration": 0.035752,
     "end_time": "2023-09-08T10:25:24.050443",
     "exception": false,
     "start_time": "2023-09-08T10:25:24.014691",
     "status": "completed"
    },
    "tags": []
   },
   "outputs": [],
   "source": [
    "train['family']=train['SibSp']+train['Parch']+1\n"
   ]
  },
  {
   "cell_type": "code",
   "execution_count": 30,
   "id": "84e1f878",
   "metadata": {
    "execution": {
     "iopub.execute_input": "2023-09-08T10:25:24.114177Z",
     "iopub.status.busy": "2023-09-08T10:25:24.113167Z",
     "iopub.status.idle": "2023-09-08T10:25:24.120685Z",
     "shell.execute_reply": "2023-09-08T10:25:24.119428Z"
    },
    "papermill": {
     "duration": 0.041781,
     "end_time": "2023-09-08T10:25:24.123392",
     "exception": false,
     "start_time": "2023-09-08T10:25:24.081611",
     "status": "completed"
    },
    "tags": []
   },
   "outputs": [],
   "source": [
    "test['family']=test['SibSp']+test['Parch']+1\n"
   ]
  },
  {
   "cell_type": "code",
   "execution_count": 31,
   "id": "40c2af53",
   "metadata": {
    "execution": {
     "iopub.execute_input": "2023-09-08T10:25:24.181072Z",
     "iopub.status.busy": "2023-09-08T10:25:24.180078Z",
     "iopub.status.idle": "2023-09-08T10:25:24.191526Z",
     "shell.execute_reply": "2023-09-08T10:25:24.189854Z"
    },
    "papermill": {
     "duration": 0.043713,
     "end_time": "2023-09-08T10:25:24.194575",
     "exception": false,
     "start_time": "2023-09-08T10:25:24.150862",
     "status": "completed"
    },
    "tags": []
   },
   "outputs": [
    {
     "data": {
      "text/plain": [
       "family\n",
       "1     537\n",
       "2     161\n",
       "3     102\n",
       "4      29\n",
       "6      22\n",
       "5      15\n",
       "7      12\n",
       "11      7\n",
       "8       6\n",
       "Name: count, dtype: int64"
      ]
     },
     "execution_count": 31,
     "metadata": {},
     "output_type": "execute_result"
    }
   ],
   "source": [
    "train['family'].value_counts()\n"
   ]
  },
  {
   "cell_type": "code",
   "execution_count": 32,
   "id": "b257de1c",
   "metadata": {
    "execution": {
     "iopub.execute_input": "2023-09-08T10:25:24.249862Z",
     "iopub.status.busy": "2023-09-08T10:25:24.248834Z",
     "iopub.status.idle": "2023-09-08T10:25:24.259556Z",
     "shell.execute_reply": "2023-09-08T10:25:24.258147Z"
    },
    "papermill": {
     "duration": 0.041278,
     "end_time": "2023-09-08T10:25:24.262217",
     "exception": false,
     "start_time": "2023-09-08T10:25:24.220939",
     "status": "completed"
    },
    "tags": []
   },
   "outputs": [
    {
     "data": {
      "text/plain": [
       "family\n",
       "1     0.303538\n",
       "2     0.552795\n",
       "3     0.578431\n",
       "4     0.724138\n",
       "5     0.200000\n",
       "6     0.136364\n",
       "7     0.333333\n",
       "8     0.000000\n",
       "11    0.000000\n",
       "Name: Survived, dtype: float64"
      ]
     },
     "execution_count": 32,
     "metadata": {},
     "output_type": "execute_result"
    }
   ],
   "source": [
    "train.groupby(['family'])['Survived'].mean()\n"
   ]
  },
  {
   "cell_type": "code",
   "execution_count": 33,
   "id": "8866eaef",
   "metadata": {
    "execution": {
     "iopub.execute_input": "2023-09-08T10:25:24.319495Z",
     "iopub.status.busy": "2023-09-08T10:25:24.318745Z",
     "iopub.status.idle": "2023-09-08T10:25:24.324151Z",
     "shell.execute_reply": "2023-09-08T10:25:24.323087Z"
    },
    "papermill": {
     "duration": 0.035706,
     "end_time": "2023-09-08T10:25:24.326705",
     "exception": false,
     "start_time": "2023-09-08T10:25:24.290999",
     "status": "completed"
    },
    "tags": []
   },
   "outputs": [],
   "source": [
    "def cal(number):\n",
    "    if number==1:\n",
    "        return 'Alone'\n",
    "    elif number>1 and number<5:\n",
    "        return 'Medium'\n",
    "    else:\n",
    "        return 'Large'"
   ]
  },
  {
   "cell_type": "code",
   "execution_count": 34,
   "id": "cb4fcf37",
   "metadata": {
    "execution": {
     "iopub.execute_input": "2023-09-08T10:25:24.381494Z",
     "iopub.status.busy": "2023-09-08T10:25:24.380652Z",
     "iopub.status.idle": "2023-09-08T10:25:24.387425Z",
     "shell.execute_reply": "2023-09-08T10:25:24.386434Z"
    },
    "papermill": {
     "duration": 0.037617,
     "end_time": "2023-09-08T10:25:24.390537",
     "exception": false,
     "start_time": "2023-09-08T10:25:24.352920",
     "status": "completed"
    },
    "tags": []
   },
   "outputs": [],
   "source": [
    "train['family_size']=train['family'].apply(cal)\n"
   ]
  },
  {
   "cell_type": "code",
   "execution_count": 35,
   "id": "97d0aed2",
   "metadata": {
    "execution": {
     "iopub.execute_input": "2023-09-08T10:25:24.446998Z",
     "iopub.status.busy": "2023-09-08T10:25:24.446495Z",
     "iopub.status.idle": "2023-09-08T10:25:24.465552Z",
     "shell.execute_reply": "2023-09-08T10:25:24.463811Z"
    },
    "papermill": {
     "duration": 0.050775,
     "end_time": "2023-09-08T10:25:24.468476",
     "exception": false,
     "start_time": "2023-09-08T10:25:24.417701",
     "status": "completed"
    },
    "tags": []
   },
   "outputs": [
    {
     "data": {
      "text/html": [
       "<div>\n",
       "<style scoped>\n",
       "    .dataframe tbody tr th:only-of-type {\n",
       "        vertical-align: middle;\n",
       "    }\n",
       "\n",
       "    .dataframe tbody tr th {\n",
       "        vertical-align: top;\n",
       "    }\n",
       "\n",
       "    .dataframe thead th {\n",
       "        text-align: right;\n",
       "    }\n",
       "</style>\n",
       "<table border=\"1\" class=\"dataframe\">\n",
       "  <thead>\n",
       "    <tr style=\"text-align: right;\">\n",
       "      <th></th>\n",
       "      <th>PassengerId</th>\n",
       "      <th>Survived</th>\n",
       "      <th>Pclass</th>\n",
       "      <th>Name</th>\n",
       "      <th>Sex</th>\n",
       "      <th>Age</th>\n",
       "      <th>SibSp</th>\n",
       "      <th>Parch</th>\n",
       "      <th>Fare</th>\n",
       "      <th>Embarked</th>\n",
       "      <th>family</th>\n",
       "      <th>family_size</th>\n",
       "    </tr>\n",
       "  </thead>\n",
       "  <tbody>\n",
       "    <tr>\n",
       "      <th>0</th>\n",
       "      <td>1</td>\n",
       "      <td>0</td>\n",
       "      <td>3</td>\n",
       "      <td>Braund, Mr. Owen Harris</td>\n",
       "      <td>male</td>\n",
       "      <td>22.0</td>\n",
       "      <td>1</td>\n",
       "      <td>0</td>\n",
       "      <td>7.2500</td>\n",
       "      <td>S</td>\n",
       "      <td>2</td>\n",
       "      <td>Medium</td>\n",
       "    </tr>\n",
       "    <tr>\n",
       "      <th>1</th>\n",
       "      <td>2</td>\n",
       "      <td>1</td>\n",
       "      <td>1</td>\n",
       "      <td>Cumings, Mrs. John Bradley (Florence Briggs Th...</td>\n",
       "      <td>female</td>\n",
       "      <td>38.0</td>\n",
       "      <td>1</td>\n",
       "      <td>0</td>\n",
       "      <td>71.2833</td>\n",
       "      <td>C</td>\n",
       "      <td>2</td>\n",
       "      <td>Medium</td>\n",
       "    </tr>\n",
       "  </tbody>\n",
       "</table>\n",
       "</div>"
      ],
      "text/plain": [
       "   PassengerId  Survived  Pclass  \\\n",
       "0            1         0       3   \n",
       "1            2         1       1   \n",
       "\n",
       "                                                Name     Sex   Age  SibSp  \\\n",
       "0                            Braund, Mr. Owen Harris    male  22.0      1   \n",
       "1  Cumings, Mrs. John Bradley (Florence Briggs Th...  female  38.0      1   \n",
       "\n",
       "   Parch     Fare Embarked  family family_size  \n",
       "0      0   7.2500        S       2      Medium  \n",
       "1      0  71.2833        C       2      Medium  "
      ]
     },
     "execution_count": 35,
     "metadata": {},
     "output_type": "execute_result"
    }
   ],
   "source": [
    "train.head(2)\n"
   ]
  },
  {
   "cell_type": "code",
   "execution_count": 36,
   "id": "84d8c879",
   "metadata": {
    "execution": {
     "iopub.execute_input": "2023-09-08T10:25:24.529348Z",
     "iopub.status.busy": "2023-09-08T10:25:24.527820Z",
     "iopub.status.idle": "2023-09-08T10:25:24.537518Z",
     "shell.execute_reply": "2023-09-08T10:25:24.536459Z"
    },
    "papermill": {
     "duration": 0.04649,
     "end_time": "2023-09-08T10:25:24.541748",
     "exception": false,
     "start_time": "2023-09-08T10:25:24.495258",
     "status": "completed"
    },
    "tags": []
   },
   "outputs": [],
   "source": [
    "test['family_size']=test['family'].apply(cal)\n"
   ]
  },
  {
   "cell_type": "code",
   "execution_count": 37,
   "id": "fb8c1f0e",
   "metadata": {
    "execution": {
     "iopub.execute_input": "2023-09-08T10:25:24.610325Z",
     "iopub.status.busy": "2023-09-08T10:25:24.609891Z",
     "iopub.status.idle": "2023-09-08T10:25:24.618418Z",
     "shell.execute_reply": "2023-09-08T10:25:24.617478Z"
    },
    "papermill": {
     "duration": 0.04521,
     "end_time": "2023-09-08T10:25:24.621022",
     "exception": false,
     "start_time": "2023-09-08T10:25:24.575812",
     "status": "completed"
    },
    "tags": []
   },
   "outputs": [],
   "source": [
    "train.drop(columns=['SibSp','Parch','family'],inplace=True)\n",
    "test.drop(columns=['SibSp','Parch','family'],inplace=True)"
   ]
  },
  {
   "cell_type": "code",
   "execution_count": 38,
   "id": "f7b27f81",
   "metadata": {
    "execution": {
     "iopub.execute_input": "2023-09-08T10:25:24.677098Z",
     "iopub.status.busy": "2023-09-08T10:25:24.676029Z",
     "iopub.status.idle": "2023-09-08T10:25:24.682067Z",
     "shell.execute_reply": "2023-09-08T10:25:24.680617Z"
    },
    "papermill": {
     "duration": 0.037728,
     "end_time": "2023-09-08T10:25:24.685228",
     "exception": false,
     "start_time": "2023-09-08T10:25:24.647500",
     "status": "completed"
    },
    "tags": []
   },
   "outputs": [],
   "source": [
    "passengerID=test['PassengerId'].values\n"
   ]
  },
  {
   "cell_type": "code",
   "execution_count": 39,
   "id": "591fc2e1",
   "metadata": {
    "execution": {
     "iopub.execute_input": "2023-09-08T10:25:24.738642Z",
     "iopub.status.busy": "2023-09-08T10:25:24.738175Z",
     "iopub.status.idle": "2023-09-08T10:25:24.747390Z",
     "shell.execute_reply": "2023-09-08T10:25:24.746030Z"
    },
    "papermill": {
     "duration": 0.039244,
     "end_time": "2023-09-08T10:25:24.750324",
     "exception": false,
     "start_time": "2023-09-08T10:25:24.711080",
     "status": "completed"
    },
    "tags": []
   },
   "outputs": [],
   "source": [
    "train.drop(columns=['Name','PassengerId'],inplace=True)\n",
    "test.drop(columns=['Name','PassengerId'],inplace=True)"
   ]
  },
  {
   "cell_type": "code",
   "execution_count": 40,
   "id": "0515a497",
   "metadata": {
    "execution": {
     "iopub.execute_input": "2023-09-08T10:25:24.805822Z",
     "iopub.status.busy": "2023-09-08T10:25:24.805339Z",
     "iopub.status.idle": "2023-09-08T10:25:24.815915Z",
     "shell.execute_reply": "2023-09-08T10:25:24.814726Z"
    },
    "papermill": {
     "duration": 0.040181,
     "end_time": "2023-09-08T10:25:24.818399",
     "exception": false,
     "start_time": "2023-09-08T10:25:24.778218",
     "status": "completed"
    },
    "tags": []
   },
   "outputs": [
    {
     "data": {
      "text/plain": [
       "Survived       0\n",
       "Pclass         0\n",
       "Sex            0\n",
       "Age            0\n",
       "Fare           0\n",
       "Embarked       0\n",
       "family_size    0\n",
       "dtype: int64"
      ]
     },
     "execution_count": 40,
     "metadata": {},
     "output_type": "execute_result"
    }
   ],
   "source": [
    "train.isnull().sum()\n"
   ]
  },
  {
   "cell_type": "code",
   "execution_count": 41,
   "id": "200c27d3",
   "metadata": {
    "execution": {
     "iopub.execute_input": "2023-09-08T10:25:24.876463Z",
     "iopub.status.busy": "2023-09-08T10:25:24.875806Z",
     "iopub.status.idle": "2023-09-08T10:25:24.888569Z",
     "shell.execute_reply": "2023-09-08T10:25:24.887327Z"
    },
    "papermill": {
     "duration": 0.044251,
     "end_time": "2023-09-08T10:25:24.891406",
     "exception": false,
     "start_time": "2023-09-08T10:25:24.847155",
     "status": "completed"
    },
    "tags": []
   },
   "outputs": [],
   "source": [
    "train=pd.get_dummies(train,columns=['Pclass','Sex','Embarked','family_size'],drop_first=True)\n"
   ]
  },
  {
   "cell_type": "code",
   "execution_count": 42,
   "id": "73e1e83e",
   "metadata": {
    "execution": {
     "iopub.execute_input": "2023-09-08T10:25:24.946186Z",
     "iopub.status.busy": "2023-09-08T10:25:24.945784Z",
     "iopub.status.idle": "2023-09-08T10:25:24.953961Z",
     "shell.execute_reply": "2023-09-08T10:25:24.952570Z"
    },
    "papermill": {
     "duration": 0.03862,
     "end_time": "2023-09-08T10:25:24.956800",
     "exception": false,
     "start_time": "2023-09-08T10:25:24.918180",
     "status": "completed"
    },
    "tags": []
   },
   "outputs": [
    {
     "data": {
      "text/plain": [
       "(891, 10)"
      ]
     },
     "execution_count": 42,
     "metadata": {},
     "output_type": "execute_result"
    }
   ],
   "source": [
    "train.shape\n"
   ]
  },
  {
   "cell_type": "code",
   "execution_count": 43,
   "id": "5dd3a16c",
   "metadata": {
    "execution": {
     "iopub.execute_input": "2023-09-08T10:25:25.011343Z",
     "iopub.status.busy": "2023-09-08T10:25:25.010897Z",
     "iopub.status.idle": "2023-09-08T10:25:25.022545Z",
     "shell.execute_reply": "2023-09-08T10:25:25.021296Z"
    },
    "papermill": {
     "duration": 0.042246,
     "end_time": "2023-09-08T10:25:25.025244",
     "exception": false,
     "start_time": "2023-09-08T10:25:24.982998",
     "status": "completed"
    },
    "tags": []
   },
   "outputs": [],
   "source": [
    "test=pd.get_dummies(test,columns=['Pclass','Sex','Embarked','family_size'],drop_first=True)\n"
   ]
  },
  {
   "cell_type": "code",
   "execution_count": 44,
   "id": "9ba4bf61",
   "metadata": {
    "execution": {
     "iopub.execute_input": "2023-09-08T10:25:25.081441Z",
     "iopub.status.busy": "2023-09-08T10:25:25.080526Z",
     "iopub.status.idle": "2023-09-08T10:25:25.087173Z",
     "shell.execute_reply": "2023-09-08T10:25:25.085897Z"
    },
    "papermill": {
     "duration": 0.038212,
     "end_time": "2023-09-08T10:25:25.090140",
     "exception": false,
     "start_time": "2023-09-08T10:25:25.051928",
     "status": "completed"
    },
    "tags": []
   },
   "outputs": [],
   "source": [
    "X=train.iloc[:,1:].values\n",
    "y=train.iloc[:,0].values"
   ]
  },
  {
   "cell_type": "code",
   "execution_count": 45,
   "id": "f98e41ec",
   "metadata": {
    "execution": {
     "iopub.execute_input": "2023-09-08T10:25:25.145691Z",
     "iopub.status.busy": "2023-09-08T10:25:25.145134Z",
     "iopub.status.idle": "2023-09-08T10:25:25.530738Z",
     "shell.execute_reply": "2023-09-08T10:25:25.529136Z"
    },
    "papermill": {
     "duration": 0.416977,
     "end_time": "2023-09-08T10:25:25.533718",
     "exception": false,
     "start_time": "2023-09-08T10:25:25.116741",
     "status": "completed"
    },
    "tags": []
   },
   "outputs": [],
   "source": [
    "from sklearn.model_selection import train_test_split\n",
    "X_train,X_test,y_train,y_test=train_test_split(X,y,test_size=0.2)"
   ]
  },
  {
   "cell_type": "code",
   "execution_count": 46,
   "id": "4f895da9",
   "metadata": {
    "execution": {
     "iopub.execute_input": "2023-09-08T10:25:25.589075Z",
     "iopub.status.busy": "2023-09-08T10:25:25.588606Z",
     "iopub.status.idle": "2023-09-08T10:25:26.071538Z",
     "shell.execute_reply": "2023-09-08T10:25:26.068971Z"
    },
    "papermill": {
     "duration": 0.515012,
     "end_time": "2023-09-08T10:25:26.075506",
     "exception": false,
     "start_time": "2023-09-08T10:25:25.560494",
     "status": "completed"
    },
    "tags": []
   },
   "outputs": [],
   "source": [
    "from sklearn.ensemble import RandomForestClassifier\n",
    "\n",
    "# Create a Random Forest Classifier\n",
    "classifier = RandomForestClassifier(n_estimators=100, random_state=42)"
   ]
  },
  {
   "cell_type": "code",
   "execution_count": 47,
   "id": "1ed045f8",
   "metadata": {
    "execution": {
     "iopub.execute_input": "2023-09-08T10:25:26.133611Z",
     "iopub.status.busy": "2023-09-08T10:25:26.133155Z",
     "iopub.status.idle": "2023-09-08T10:25:26.447797Z",
     "shell.execute_reply": "2023-09-08T10:25:26.446228Z"
    },
    "papermill": {
     "duration": 0.346868,
     "end_time": "2023-09-08T10:25:26.450870",
     "exception": false,
     "start_time": "2023-09-08T10:25:26.104002",
     "status": "completed"
    },
    "tags": []
   },
   "outputs": [
    {
     "data": {
      "text/html": [
       "<style>#sk-container-id-1 {color: black;background-color: white;}#sk-container-id-1 pre{padding: 0;}#sk-container-id-1 div.sk-toggleable {background-color: white;}#sk-container-id-1 label.sk-toggleable__label {cursor: pointer;display: block;width: 100%;margin-bottom: 0;padding: 0.3em;box-sizing: border-box;text-align: center;}#sk-container-id-1 label.sk-toggleable__label-arrow:before {content: \"▸\";float: left;margin-right: 0.25em;color: #696969;}#sk-container-id-1 label.sk-toggleable__label-arrow:hover:before {color: black;}#sk-container-id-1 div.sk-estimator:hover label.sk-toggleable__label-arrow:before {color: black;}#sk-container-id-1 div.sk-toggleable__content {max-height: 0;max-width: 0;overflow: hidden;text-align: left;background-color: #f0f8ff;}#sk-container-id-1 div.sk-toggleable__content pre {margin: 0.2em;color: black;border-radius: 0.25em;background-color: #f0f8ff;}#sk-container-id-1 input.sk-toggleable__control:checked~div.sk-toggleable__content {max-height: 200px;max-width: 100%;overflow: auto;}#sk-container-id-1 input.sk-toggleable__control:checked~label.sk-toggleable__label-arrow:before {content: \"▾\";}#sk-container-id-1 div.sk-estimator input.sk-toggleable__control:checked~label.sk-toggleable__label {background-color: #d4ebff;}#sk-container-id-1 div.sk-label input.sk-toggleable__control:checked~label.sk-toggleable__label {background-color: #d4ebff;}#sk-container-id-1 input.sk-hidden--visually {border: 0;clip: rect(1px 1px 1px 1px);clip: rect(1px, 1px, 1px, 1px);height: 1px;margin: -1px;overflow: hidden;padding: 0;position: absolute;width: 1px;}#sk-container-id-1 div.sk-estimator {font-family: monospace;background-color: #f0f8ff;border: 1px dotted black;border-radius: 0.25em;box-sizing: border-box;margin-bottom: 0.5em;}#sk-container-id-1 div.sk-estimator:hover {background-color: #d4ebff;}#sk-container-id-1 div.sk-parallel-item::after {content: \"\";width: 100%;border-bottom: 1px solid gray;flex-grow: 1;}#sk-container-id-1 div.sk-label:hover label.sk-toggleable__label {background-color: #d4ebff;}#sk-container-id-1 div.sk-serial::before {content: \"\";position: absolute;border-left: 1px solid gray;box-sizing: border-box;top: 0;bottom: 0;left: 50%;z-index: 0;}#sk-container-id-1 div.sk-serial {display: flex;flex-direction: column;align-items: center;background-color: white;padding-right: 0.2em;padding-left: 0.2em;position: relative;}#sk-container-id-1 div.sk-item {position: relative;z-index: 1;}#sk-container-id-1 div.sk-parallel {display: flex;align-items: stretch;justify-content: center;background-color: white;position: relative;}#sk-container-id-1 div.sk-item::before, #sk-container-id-1 div.sk-parallel-item::before {content: \"\";position: absolute;border-left: 1px solid gray;box-sizing: border-box;top: 0;bottom: 0;left: 50%;z-index: -1;}#sk-container-id-1 div.sk-parallel-item {display: flex;flex-direction: column;z-index: 1;position: relative;background-color: white;}#sk-container-id-1 div.sk-parallel-item:first-child::after {align-self: flex-end;width: 50%;}#sk-container-id-1 div.sk-parallel-item:last-child::after {align-self: flex-start;width: 50%;}#sk-container-id-1 div.sk-parallel-item:only-child::after {width: 0;}#sk-container-id-1 div.sk-dashed-wrapped {border: 1px dashed gray;margin: 0 0.4em 0.5em 0.4em;box-sizing: border-box;padding-bottom: 0.4em;background-color: white;}#sk-container-id-1 div.sk-label label {font-family: monospace;font-weight: bold;display: inline-block;line-height: 1.2em;}#sk-container-id-1 div.sk-label-container {text-align: center;}#sk-container-id-1 div.sk-container {/* jupyter's `normalize.less` sets `[hidden] { display: none; }` but bootstrap.min.css set `[hidden] { display: none !important; }` so we also need the `!important` here to be able to override the default hidden behavior on the sphinx rendered scikit-learn.org. See: https://github.com/scikit-learn/scikit-learn/issues/21755 */display: inline-block !important;position: relative;}#sk-container-id-1 div.sk-text-repr-fallback {display: none;}</style><div id=\"sk-container-id-1\" class=\"sk-top-container\"><div class=\"sk-text-repr-fallback\"><pre>RandomForestClassifier(random_state=42)</pre><b>In a Jupyter environment, please rerun this cell to show the HTML representation or trust the notebook. <br />On GitHub, the HTML representation is unable to render, please try loading this page with nbviewer.org.</b></div><div class=\"sk-container\" hidden><div class=\"sk-item\"><div class=\"sk-estimator sk-toggleable\"><input class=\"sk-toggleable__control sk-hidden--visually\" id=\"sk-estimator-id-1\" type=\"checkbox\" checked><label for=\"sk-estimator-id-1\" class=\"sk-toggleable__label sk-toggleable__label-arrow\">RandomForestClassifier</label><div class=\"sk-toggleable__content\"><pre>RandomForestClassifier(random_state=42)</pre></div></div></div></div></div>"
      ],
      "text/plain": [
       "RandomForestClassifier(random_state=42)"
      ]
     },
     "execution_count": 47,
     "metadata": {},
     "output_type": "execute_result"
    }
   ],
   "source": [
    "classifier.fit(X_train,y_train)\n"
   ]
  },
  {
   "cell_type": "code",
   "execution_count": 48,
   "id": "88e62154",
   "metadata": {
    "execution": {
     "iopub.execute_input": "2023-09-08T10:25:26.508962Z",
     "iopub.status.busy": "2023-09-08T10:25:26.508325Z",
     "iopub.status.idle": "2023-09-08T10:25:26.529889Z",
     "shell.execute_reply": "2023-09-08T10:25:26.528530Z"
    },
    "papermill": {
     "duration": 0.054148,
     "end_time": "2023-09-08T10:25:26.532874",
     "exception": false,
     "start_time": "2023-09-08T10:25:26.478726",
     "status": "completed"
    },
    "tags": []
   },
   "outputs": [],
   "source": [
    "y_pred=classifier.predict(X_test)\n"
   ]
  },
  {
   "cell_type": "code",
   "execution_count": 49,
   "id": "8aa42a23",
   "metadata": {
    "execution": {
     "iopub.execute_input": "2023-09-08T10:25:26.593759Z",
     "iopub.status.busy": "2023-09-08T10:25:26.593339Z",
     "iopub.status.idle": "2023-09-08T10:25:26.603750Z",
     "shell.execute_reply": "2023-09-08T10:25:26.602266Z"
    },
    "papermill": {
     "duration": 0.04472,
     "end_time": "2023-09-08T10:25:26.606668",
     "exception": false,
     "start_time": "2023-09-08T10:25:26.561948",
     "status": "completed"
    },
    "tags": []
   },
   "outputs": [
    {
     "data": {
      "text/plain": [
       "0.8212290502793296"
      ]
     },
     "execution_count": 49,
     "metadata": {},
     "output_type": "execute_result"
    }
   ],
   "source": [
    "from sklearn.metrics import accuracy_score\n",
    "accuracy_score(y_pred,y_test)"
   ]
  },
  {
   "cell_type": "code",
   "execution_count": 50,
   "id": "26ad9812",
   "metadata": {
    "execution": {
     "iopub.execute_input": "2023-09-08T10:25:26.666918Z",
     "iopub.status.busy": "2023-09-08T10:25:26.666447Z",
     "iopub.status.idle": "2023-09-08T10:25:26.673622Z",
     "shell.execute_reply": "2023-09-08T10:25:26.672461Z"
    },
    "papermill": {
     "duration": 0.039609,
     "end_time": "2023-09-08T10:25:26.676556",
     "exception": false,
     "start_time": "2023-09-08T10:25:26.636947",
     "status": "completed"
    },
    "tags": []
   },
   "outputs": [],
   "source": [
    "xf=test.iloc[:,:].values"
   ]
  },
  {
   "cell_type": "code",
   "execution_count": 51,
   "id": "69c5e0c1",
   "metadata": {
    "execution": {
     "iopub.execute_input": "2023-09-08T10:25:26.738268Z",
     "iopub.status.busy": "2023-09-08T10:25:26.736519Z",
     "iopub.status.idle": "2023-09-08T10:25:26.760778Z",
     "shell.execute_reply": "2023-09-08T10:25:26.758453Z"
    },
    "papermill": {
     "duration": 0.060071,
     "end_time": "2023-09-08T10:25:26.764051",
     "exception": false,
     "start_time": "2023-09-08T10:25:26.703980",
     "status": "completed"
    },
    "tags": []
   },
   "outputs": [],
   "source": [
    "y_final=classifier.predict(xf)\n"
   ]
  },
  {
   "cell_type": "code",
   "execution_count": 52,
   "id": "e641b4d2",
   "metadata": {
    "execution": {
     "iopub.execute_input": "2023-09-08T10:25:26.825126Z",
     "iopub.status.busy": "2023-09-08T10:25:26.824551Z",
     "iopub.status.idle": "2023-09-08T10:25:26.832583Z",
     "shell.execute_reply": "2023-09-08T10:25:26.830651Z"
    },
    "papermill": {
     "duration": 0.042111,
     "end_time": "2023-09-08T10:25:26.836032",
     "exception": false,
     "start_time": "2023-09-08T10:25:26.793921",
     "status": "completed"
    },
    "tags": []
   },
   "outputs": [],
   "source": [
    "final=pd.DataFrame()\n"
   ]
  },
  {
   "cell_type": "code",
   "execution_count": 53,
   "id": "fc699953",
   "metadata": {
    "execution": {
     "iopub.execute_input": "2023-09-08T10:25:26.893409Z",
     "iopub.status.busy": "2023-09-08T10:25:26.892320Z",
     "iopub.status.idle": "2023-09-08T10:25:26.899232Z",
     "shell.execute_reply": "2023-09-08T10:25:26.898207Z"
    },
    "papermill": {
     "duration": 0.038572,
     "end_time": "2023-09-08T10:25:26.902143",
     "exception": false,
     "start_time": "2023-09-08T10:25:26.863571",
     "status": "completed"
    },
    "tags": []
   },
   "outputs": [],
   "source": [
    "final['passengerID']=passengerID\n"
   ]
  },
  {
   "cell_type": "code",
   "execution_count": 54,
   "id": "064feb88",
   "metadata": {
    "execution": {
     "iopub.execute_input": "2023-09-08T10:25:26.960544Z",
     "iopub.status.busy": "2023-09-08T10:25:26.959768Z",
     "iopub.status.idle": "2023-09-08T10:25:26.966228Z",
     "shell.execute_reply": "2023-09-08T10:25:26.964804Z"
    },
    "papermill": {
     "duration": 0.040157,
     "end_time": "2023-09-08T10:25:26.969320",
     "exception": false,
     "start_time": "2023-09-08T10:25:26.929163",
     "status": "completed"
    },
    "tags": []
   },
   "outputs": [],
   "source": [
    "final['Survived']=y_final\n"
   ]
  },
  {
   "cell_type": "code",
   "execution_count": 55,
   "id": "d47ee6fd",
   "metadata": {
    "execution": {
     "iopub.execute_input": "2023-09-08T10:25:27.024477Z",
     "iopub.status.busy": "2023-09-08T10:25:27.024064Z",
     "iopub.status.idle": "2023-09-08T10:25:27.041294Z",
     "shell.execute_reply": "2023-09-08T10:25:27.039305Z"
    },
    "papermill": {
     "duration": 0.048984,
     "end_time": "2023-09-08T10:25:27.044893",
     "exception": false,
     "start_time": "2023-09-08T10:25:26.995909",
     "status": "completed"
    },
    "tags": []
   },
   "outputs": [
    {
     "data": {
      "text/html": [
       "<div>\n",
       "<style scoped>\n",
       "    .dataframe tbody tr th:only-of-type {\n",
       "        vertical-align: middle;\n",
       "    }\n",
       "\n",
       "    .dataframe tbody tr th {\n",
       "        vertical-align: top;\n",
       "    }\n",
       "\n",
       "    .dataframe thead th {\n",
       "        text-align: right;\n",
       "    }\n",
       "</style>\n",
       "<table border=\"1\" class=\"dataframe\">\n",
       "  <thead>\n",
       "    <tr style=\"text-align: right;\">\n",
       "      <th></th>\n",
       "      <th>passengerID</th>\n",
       "      <th>Survived</th>\n",
       "    </tr>\n",
       "  </thead>\n",
       "  <tbody>\n",
       "    <tr>\n",
       "      <th>0</th>\n",
       "      <td>892</td>\n",
       "      <td>0</td>\n",
       "    </tr>\n",
       "    <tr>\n",
       "      <th>1</th>\n",
       "      <td>893</td>\n",
       "      <td>0</td>\n",
       "    </tr>\n",
       "    <tr>\n",
       "      <th>2</th>\n",
       "      <td>894</td>\n",
       "      <td>0</td>\n",
       "    </tr>\n",
       "    <tr>\n",
       "      <th>3</th>\n",
       "      <td>895</td>\n",
       "      <td>0</td>\n",
       "    </tr>\n",
       "    <tr>\n",
       "      <th>4</th>\n",
       "      <td>896</td>\n",
       "      <td>1</td>\n",
       "    </tr>\n",
       "    <tr>\n",
       "      <th>...</th>\n",
       "      <td>...</td>\n",
       "      <td>...</td>\n",
       "    </tr>\n",
       "    <tr>\n",
       "      <th>413</th>\n",
       "      <td>1305</td>\n",
       "      <td>0</td>\n",
       "    </tr>\n",
       "    <tr>\n",
       "      <th>414</th>\n",
       "      <td>1306</td>\n",
       "      <td>1</td>\n",
       "    </tr>\n",
       "    <tr>\n",
       "      <th>415</th>\n",
       "      <td>1307</td>\n",
       "      <td>0</td>\n",
       "    </tr>\n",
       "    <tr>\n",
       "      <th>416</th>\n",
       "      <td>1308</td>\n",
       "      <td>0</td>\n",
       "    </tr>\n",
       "    <tr>\n",
       "      <th>417</th>\n",
       "      <td>1309</td>\n",
       "      <td>0</td>\n",
       "    </tr>\n",
       "  </tbody>\n",
       "</table>\n",
       "<p>418 rows × 2 columns</p>\n",
       "</div>"
      ],
      "text/plain": [
       "     passengerID  Survived\n",
       "0            892         0\n",
       "1            893         0\n",
       "2            894         0\n",
       "3            895         0\n",
       "4            896         1\n",
       "..           ...       ...\n",
       "413         1305         0\n",
       "414         1306         1\n",
       "415         1307         0\n",
       "416         1308         0\n",
       "417         1309         0\n",
       "\n",
       "[418 rows x 2 columns]"
      ]
     },
     "execution_count": 55,
     "metadata": {},
     "output_type": "execute_result"
    }
   ],
   "source": [
    "final\n"
   ]
  },
  {
   "cell_type": "code",
   "execution_count": 56,
   "id": "dcd94fcd",
   "metadata": {
    "execution": {
     "iopub.execute_input": "2023-09-08T10:25:27.106877Z",
     "iopub.status.busy": "2023-09-08T10:25:27.105349Z",
     "iopub.status.idle": "2023-09-08T10:25:27.115379Z",
     "shell.execute_reply": "2023-09-08T10:25:27.114306Z"
    },
    "papermill": {
     "duration": 0.043009,
     "end_time": "2023-09-08T10:25:27.118188",
     "exception": false,
     "start_time": "2023-09-08T10:25:27.075179",
     "status": "completed"
    },
    "tags": []
   },
   "outputs": [],
   "source": [
    "final.to_csv('Submition.csv',index=False)\n"
   ]
  },
  {
   "cell_type": "code",
   "execution_count": 57,
   "id": "8d0796bb",
   "metadata": {
    "execution": {
     "iopub.execute_input": "2023-09-08T10:25:27.175885Z",
     "iopub.status.busy": "2023-09-08T10:25:27.174929Z",
     "iopub.status.idle": "2023-09-08T10:25:27.181865Z",
     "shell.execute_reply": "2023-09-08T10:25:27.180928Z"
    },
    "papermill": {
     "duration": 0.039538,
     "end_time": "2023-09-08T10:25:27.184476",
     "exception": false,
     "start_time": "2023-09-08T10:25:27.144938",
     "status": "completed"
    },
    "tags": []
   },
   "outputs": [],
   "source": [
    "f=pd.read_csv('Submition.csv')\n"
   ]
  },
  {
   "cell_type": "code",
   "execution_count": 58,
   "id": "6a0dd928",
   "metadata": {
    "execution": {
     "iopub.execute_input": "2023-09-08T10:25:27.242847Z",
     "iopub.status.busy": "2023-09-08T10:25:27.241999Z",
     "iopub.status.idle": "2023-09-08T10:25:27.255620Z",
     "shell.execute_reply": "2023-09-08T10:25:27.253897Z"
    },
    "papermill": {
     "duration": 0.045891,
     "end_time": "2023-09-08T10:25:27.258302",
     "exception": false,
     "start_time": "2023-09-08T10:25:27.212411",
     "status": "completed"
    },
    "tags": []
   },
   "outputs": [
    {
     "data": {
      "text/html": [
       "<div>\n",
       "<style scoped>\n",
       "    .dataframe tbody tr th:only-of-type {\n",
       "        vertical-align: middle;\n",
       "    }\n",
       "\n",
       "    .dataframe tbody tr th {\n",
       "        vertical-align: top;\n",
       "    }\n",
       "\n",
       "    .dataframe thead th {\n",
       "        text-align: right;\n",
       "    }\n",
       "</style>\n",
       "<table border=\"1\" class=\"dataframe\">\n",
       "  <thead>\n",
       "    <tr style=\"text-align: right;\">\n",
       "      <th></th>\n",
       "      <th>passengerID</th>\n",
       "      <th>Survived</th>\n",
       "    </tr>\n",
       "  </thead>\n",
       "  <tbody>\n",
       "    <tr>\n",
       "      <th>0</th>\n",
       "      <td>892</td>\n",
       "      <td>0</td>\n",
       "    </tr>\n",
       "    <tr>\n",
       "      <th>1</th>\n",
       "      <td>893</td>\n",
       "      <td>0</td>\n",
       "    </tr>\n",
       "    <tr>\n",
       "      <th>2</th>\n",
       "      <td>894</td>\n",
       "      <td>0</td>\n",
       "    </tr>\n",
       "    <tr>\n",
       "      <th>3</th>\n",
       "      <td>895</td>\n",
       "      <td>0</td>\n",
       "    </tr>\n",
       "    <tr>\n",
       "      <th>4</th>\n",
       "      <td>896</td>\n",
       "      <td>1</td>\n",
       "    </tr>\n",
       "    <tr>\n",
       "      <th>...</th>\n",
       "      <td>...</td>\n",
       "      <td>...</td>\n",
       "    </tr>\n",
       "    <tr>\n",
       "      <th>413</th>\n",
       "      <td>1305</td>\n",
       "      <td>0</td>\n",
       "    </tr>\n",
       "    <tr>\n",
       "      <th>414</th>\n",
       "      <td>1306</td>\n",
       "      <td>1</td>\n",
       "    </tr>\n",
       "    <tr>\n",
       "      <th>415</th>\n",
       "      <td>1307</td>\n",
       "      <td>0</td>\n",
       "    </tr>\n",
       "    <tr>\n",
       "      <th>416</th>\n",
       "      <td>1308</td>\n",
       "      <td>0</td>\n",
       "    </tr>\n",
       "    <tr>\n",
       "      <th>417</th>\n",
       "      <td>1309</td>\n",
       "      <td>0</td>\n",
       "    </tr>\n",
       "  </tbody>\n",
       "</table>\n",
       "<p>418 rows × 2 columns</p>\n",
       "</div>"
      ],
      "text/plain": [
       "     passengerID  Survived\n",
       "0            892         0\n",
       "1            893         0\n",
       "2            894         0\n",
       "3            895         0\n",
       "4            896         1\n",
       "..           ...       ...\n",
       "413         1305         0\n",
       "414         1306         1\n",
       "415         1307         0\n",
       "416         1308         0\n",
       "417         1309         0\n",
       "\n",
       "[418 rows x 2 columns]"
      ]
     },
     "execution_count": 58,
     "metadata": {},
     "output_type": "execute_result"
    }
   ],
   "source": [
    "f"
   ]
  },
  {
   "cell_type": "code",
   "execution_count": null,
   "id": "4dba285e",
   "metadata": {
    "papermill": {
     "duration": 0.030512,
     "end_time": "2023-09-08T10:25:27.321266",
     "exception": false,
     "start_time": "2023-09-08T10:25:27.290754",
     "status": "completed"
    },
    "tags": []
   },
   "outputs": [],
   "source": []
  }
 ],
 "kernelspec": {
  "display_name": "Python 3",
  "language": "python",
  "name": "python3"
 },
 "language_info": {
  "codemirror_mode": {
   "name": "ipython",
   "version": 3
  },
  "file_extension": ".py",
  "mimetype": "text/x-python",
  "name": "python",
  "nbconvert_exporter": "python",
  "pygments_lexer": "ipython3",
  "version": "3.6.4"
 },
 "metadata": {
  "kernelspec": {
   "display_name": "Python 3",
   "language": "python",
   "name": "python3"
  },
  "language_info": {
   "codemirror_mode": {
    "name": "ipython",
    "version": 3
   },
   "file_extension": ".py",
   "mimetype": "text/x-python",
   "name": "python",
   "nbconvert_exporter": "python",
   "pygments_lexer": "ipython3",
   "version": "3.10.12"
  },
  "papermill": {
   "default_parameters": {},
   "duration": 13.509999,
   "end_time": "2023-09-08T10:25:28.072554",
   "environment_variables": {},
   "exception": null,
   "input_path": "__notebook__.ipynb",
   "output_path": "__notebook__.ipynb",
   "parameters": {},
   "start_time": "2023-09-08T10:25:14.562555",
   "version": "2.4.0"
  }
 },
 "nbformat": 4,
 "nbformat_minor": 5
}
